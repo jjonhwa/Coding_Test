{
 "cells": [
  {
   "cell_type": "code",
   "execution_count": 1,
   "metadata": {},
   "outputs": [
    {
     "data": {
      "text/plain": [
       "[[1, 3, 3], [1, 2, 1]]"
      ]
     },
     "execution_count": 1,
     "metadata": {},
     "output_type": "execute_result"
    }
   ],
   "source": [
    "V, E = list(map(int, input().split()))\n",
    "node = []\n",
    "for i in range(E):\n",
    "    a, b, c = list(map(int, input().split()))\n",
    "    node.append([a,b,c])\n",
    "# node: [[1,2,1], [2,3,2], [1,3,3]]\n",
    "\n",
    "# 간선을 기준으로 오름차순 정렬\n",
    "node.sort(key = lambda x: -x[2])\n",
    "# node: [[1,3,3], [2,3,2], [1,2,1]]\n",
    "\n",
    "start_node = node[-1][0] # 1\n",
    "check_node = [n for n in node if n[0] == start_node or n[1] == start_node]\n",
    "for c in check_node:\n",
    "    node.remove(c)\n",
    "\n",
    "mst = 0\n",
    "while check_node:\n",
    "    check_node.sort(key = lambda x: -x[2])\n",
    "    mst += check_node[-1][-1]\n",
    "    next_node = check_node[-1][1]\n",
    "    check_node = [n for n in node if n[0] == next_node]\n",
    "    for c in check_node:\n",
    "        node.remove(c)\n",
    "print(mst)\n",
    "\n"
   ]
  },
  {
   "cell_type": "code",
   "execution_count": null,
   "metadata": {},
   "outputs": [],
   "source": []
  }
 ],
 "metadata": {
  "interpreter": {
   "hash": "6d46af94c2bbce495f1e668725902fa517c90b1782bcfe2fce0dd9868df553d3"
  },
  "kernelspec": {
   "display_name": "Python 3.8.8 64-bit (conda)",
   "language": "python",
   "name": "python3"
  },
  "language_info": {
   "codemirror_mode": {
    "name": "ipython",
    "version": 3
   },
   "file_extension": ".py",
   "mimetype": "text/x-python",
   "name": "python",
   "nbconvert_exporter": "python",
   "pygments_lexer": "ipython3",
   "version": "3.8.8"
  },
  "orig_nbformat": 4
 },
 "nbformat": 4,
 "nbformat_minor": 2
}
