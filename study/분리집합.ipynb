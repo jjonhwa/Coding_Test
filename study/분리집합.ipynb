{
 "cells": [
  {
   "cell_type": "markdown",
   "metadata": {},
   "source": [
    "## 분리집합 "
   ]
  },
  {
   "cell_type": "markdown",
   "metadata": {},
   "source": [
    "### 분리집합이란?\n",
    "- Union-Find 집합이라고 하며, Disjoint-set(서로소 집합 혹은 분리 집합)이라고 한다.\n",
    "- 흔히 배열에서 index를 node로 나타내어 각각의 index의 값에 해당하는 index의 parent node를 저장한다.\n",
    "- 주로 그래프 문제에 적용할 수 있으며, 순수히 노드 간의 연결 관계를 파악할 때 유용하게 사용된다."
   ]
  },
  {
   "cell_type": "markdown",
   "metadata": {},
   "source": [
    "### 분리집합 알고리즘\n",
    "- Union (서로 다른 두 집합을 합치는 연산)\n",
    "- Find (Root Node를 찾는 연산)\n",
    "\n",
    "#### Find\n",
    "- 어떤 인자를 주었을 때, 해당 node의 Root node를 반환하는 연산\n",
    "- 임의의 두 node가 연결되어있는지 확인할 때 사용된다.\n",
    "- 흔히, 재귀 형태로 구현한다.\n",
    "- 시간복잡도의 효율을 높이기 위해 경로 압축 최적화를 한다. (자식 노드들의 값을 모두 Root node로 변경하여 Skewed Tree를 방지한다.)\n",
    "\n",
    "#### Union\n",
    "- 서로 다른 두 집합을 합치는 연산\n",
    "- 각 tree의 root node를 비교하여 둘 중 작은 root node를 기준으로 합친다.\n",
    "- Union 연산을 하기 위해서는 반드시 find 연산이 필요하다."
   ]
  },
  {
   "cell_type": "markdown",
   "metadata": {},
   "source": []
  }
 ],
 "metadata": {
  "language_info": {
   "name": "python"
  },
  "orig_nbformat": 4
 },
 "nbformat": 4,
 "nbformat_minor": 2
}
