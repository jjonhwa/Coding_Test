{
 "cells": [
  {
   "cell_type": "markdown",
   "metadata": {},
   "source": [
    "## 위상정렬"
   ]
  },
  {
   "cell_type": "markdown",
   "metadata": {},
   "source": [
    "### 위상 정렬이란?\n",
    "- 어떤 일을 하는 순서를 찾는 알고리즘\n",
    "- 정점들의 선행순서를 위배하지 않으면서 모든 정점을 나열하는 것\n",
    "- https://blog.naver.com/ndb796/221236874984 참고"
   ]
  },
  {
   "cell_type": "markdown",
   "metadata": {},
   "source": [
    "### 위상 정렬의 특징\n",
    "- 한 방향 그래프에서는 여러 위상 정렬 가능\n",
    "- 선택되는 정점의 순서를 위상 순서라고 한다.\n",
    "- 남아있는 정점 중 진입 차수가 0인 정점이 없다면 알고리즘이 중단되고 실행불가능하다.\n",
    "- Cycle이 발생하는 경우, 위상 정렬을 수행할 수 없다."
   ]
  },
  {
   "cell_type": "markdown",
   "metadata": {},
   "source": [
    "### 위상 정렬 풀이\n",
    "- 현재 그래프는 위상 정렬 가능한가?\n",
    "    - Cycle이 존재하지 않는지 확인\n",
    "    - 시작점이 존재하는가?\n",
    "- 위상정렬이 가능다하면 하는 일의 결과있는가?"
   ]
  },
  {
   "cell_type": "markdown",
   "metadata": {},
   "source": []
  }
 ],
 "metadata": {
  "language_info": {
   "name": "python"
  },
  "orig_nbformat": 4
 },
 "nbformat": 4,
 "nbformat_minor": 2
}
