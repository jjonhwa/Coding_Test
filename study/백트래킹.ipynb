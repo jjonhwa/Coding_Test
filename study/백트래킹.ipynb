{
 "cells": [
  {
   "cell_type": "markdown",
   "metadata": {},
   "source": [
    "### BackTracking\n",
    "\n",
    "- 해를 찾는 도중 해가 아닐 경우, 다시 돌아가서 해를 찾는 기법\n",
    "- 최적화 문제, 결정 문제"
   ]
  },
  {
   "cell_type": "markdown",
   "metadata": {},
   "source": [
    "### DFS vs BackTracking\n",
    "\n",
    "#### DFS\n",
    "- 가능한 모든 경로(후보)를 탐색\n",
    "- 불필요한 경로를 사전 차단하지 못한다.\n",
    "- 시간복잡도가 N!일 경우, DFS로 해결하기 힘들다.\n",
    "\n",
    "#### BackTracking\n",
    "- 해를 찾는 도중, "
   ]
  }
 ],
 "metadata": {
  "language_info": {
   "name": "python"
  },
  "orig_nbformat": 4
 },
 "nbformat": 4,
 "nbformat_minor": 2
}
