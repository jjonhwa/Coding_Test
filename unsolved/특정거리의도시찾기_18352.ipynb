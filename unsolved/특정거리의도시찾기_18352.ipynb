{
 "cells": [
  {
   "cell_type": "code",
   "execution_count": 82,
   "metadata": {},
   "outputs": [],
   "source": [
    "# 1차시 - 실패\n",
    "# N = 300,000 / M = 1,000,000 / K = 300,000\n",
    "N, M, K, X = list(map(int, input().split()))\n",
    "full_load = [[False] * N for _ in range(N)]\n",
    "for _ in range(M):\n",
    "    single_load = list(map(int, input().split()))\n",
    "    full_load[single_load[0]-1][single_load[1]-1] = True\n",
    "\n",
    "# 횟수만큼 움직였을 때, 갈 수 있는 지점\n",
    "go_count = {}\n",
    "def recursion(load, k):\n",
    "    for i in range(len(load)):\n",
    "        if load[i] == True:\n",
    "            if k not in go_count.keys():\n",
    "                go_count[k] = [i]\n",
    "            else:\n",
    "                go_count[k].append(i)\n",
    "            recursion(full_load[i], k+1)\n",
    "recursion(full_load[X-1], 0)\n",
    "\n",
    "if K-1 in go_count.keys():\n",
    "    last = []\n",
    "    for check in go_count[K-1]:\n",
    "        get = 0\n",
    "        for k, v in go_count.items():\n",
    "            if k >= K-1:\n",
    "                break\n",
    "            if check in v:\n",
    "                get = 1\n",
    "                break\n",
    "        if get == 0:\n",
    "            last.append(check)\n",
    "\n",
    "    if last:\n",
    "        last.sort()\n",
    "        for l in last:\n",
    "            print(l+1)\n",
    "    else:\n",
    "        print(-1)\n",
    "else:\n",
    "    print(-1)"
   ]
  },
  {
   "cell_type": "code",
   "execution_count": 100,
   "metadata": {},
   "outputs": [],
   "source": [
    "# 2차시 - 구글링\n",
    "# N = 300,000 / M = 1,000,000 / K = 300,000\n",
    "from collections import deque\n",
    "\n",
    "N, M, K, X = list(map(int, input().split()))\n",
    "full_load = [[] for _ in range(N+1)]\n",
    "distance = [0] * (N+1)\n",
    "visited = [False] * (N+1)\n",
    "for _ in range(M):\n",
    "    single_load = list(map(int, input().split()))\n",
    "    full_load[single_load[0]].append(single_load[1])\n",
    "\n",
    "queue = deque([X])\n",
    "visited[X] = True\n",
    "distance[X] = 0\n",
    "answer = []\n",
    "while queue:\n",
    "    now = queue.popleft()\n",
    "    for i in full_load[now]:\n",
    "        if not visited[i]:\n",
    "            visited[i] = True\n",
    "            queue.append(i)\n",
    "            distance[i] = distance[now] + 1\n",
    "            if distance[i] == K:\n",
    "                answer.append(i)\n",
    "if len(answer) == 0:\n",
    "    print(-1)\n",
    "else:\n",
    "    answer.sort()\n",
    "    for i in answer:\n",
    "        print(i)"
   ]
  }
 ],
 "metadata": {
  "interpreter": {
   "hash": "6d46af94c2bbce495f1e668725902fa517c90b1782bcfe2fce0dd9868df553d3"
  },
  "kernelspec": {
   "display_name": "Python 3.8.8 64-bit (conda)",
   "language": "python",
   "name": "python3"
  },
  "language_info": {
   "codemirror_mode": {
    "name": "ipython",
    "version": 3
   },
   "file_extension": ".py",
   "mimetype": "text/x-python",
   "name": "python",
   "nbconvert_exporter": "python",
   "pygments_lexer": "ipython3",
   "version": "3.8.8"
  },
  "orig_nbformat": 4
 },
 "nbformat": 4,
 "nbformat_minor": 2
}
