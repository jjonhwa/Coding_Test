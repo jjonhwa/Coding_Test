{
 "cells": [
  {
   "cell_type": "code",
   "execution_count": 28,
   "metadata": {},
   "outputs": [],
   "source": [
    "# N = 1000, M = 500000\n",
    "# 위상정렬 코드를 보며 풀이\n",
    "from collections import deque\n",
    "\n",
    "N, M = list(map(int, input().split()))\n",
    "indegree = [0] * (N+1)\n",
    "graph = [[] for _ in range(N+1)]\n",
    "answer = [0] * (N+1)\n",
    "for _ in range(M):\n",
    "    A, B = list(map(int, input().split()))\n",
    "    indegree[B] += 1\n",
    "    graph[A].append(B)\n",
    "\n",
    "\n",
    "queue = deque()\n",
    "for i in range(1, len(indegree)):\n",
    "    if indegree[i] == 0:\n",
    "        queue.append(i)\n",
    "        answer[i] = 1\n",
    "\n",
    "for _ in range(1, len(indegree)):\n",
    "    target = queue.popleft()\n",
    "\n",
    "    for next in graph[target]:\n",
    "        indegree[next] -= 1\n",
    "        if indegree[next] == 0:\n",
    "            queue.append(next)\n",
    "            answer[next] = answer[target] + 1"
   ]
  }
 ],
 "metadata": {
  "interpreter": {
   "hash": "6d46af94c2bbce495f1e668725902fa517c90b1782bcfe2fce0dd9868df553d3"
  },
  "kernelspec": {
   "display_name": "Python 3.8.8 64-bit (conda)",
   "language": "python",
   "name": "python3"
  },
  "language_info": {
   "codemirror_mode": {
    "name": "ipython",
    "version": 3
   },
   "file_extension": ".py",
   "mimetype": "text/x-python",
   "name": "python",
   "nbconvert_exporter": "python",
   "pygments_lexer": "ipython3",
   "version": "3.8.8"
  },
  "orig_nbformat": 4
 },
 "nbformat": 4,
 "nbformat_minor": 2
}
