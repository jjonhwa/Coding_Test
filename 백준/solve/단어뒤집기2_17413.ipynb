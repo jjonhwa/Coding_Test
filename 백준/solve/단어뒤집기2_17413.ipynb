{
 "cells": [
  {
   "cell_type": "code",
   "execution_count": 37,
   "metadata": {},
   "outputs": [
    {
     "name": "stdout",
     "output_type": "stream",
     "text": [
      "<   space   >ecaps ecaps ecaps<    spa   c e>\n"
     ]
    }
   ],
   "source": [
    "# 1번: 태그와 문자 구분\n",
    "# 2번: 문자들 중에서 spacebar로 구분\n",
    "# 3번: 문자들 뒤집기\n",
    "# 4번: 연속하는 두 단어는 공백하나로 구분하여 합치기\n",
    "sentence = input()\n",
    "\n",
    "# 1번: 태그와 문자 구분\n",
    "tag_check = [False] * len(sentence)\n",
    "tag = False\n",
    "for i, s in enumerate(sentence):\n",
    "    if s == '<':\n",
    "        tag = True\n",
    "    if tag == True:\n",
    "        tag_check[i] = True\n",
    "    if s == '>':\n",
    "        tag = False\n",
    "\n",
    "seperate = []\n",
    "tag_word = ''\n",
    "real_word = ''\n",
    "for s, t in zip(sentence, tag_check):\n",
    "    if t == True:\n",
    "        tag_word += s\n",
    "    else:\n",
    "        if tag_word != '':\n",
    "            seperate.append(tag_word)\n",
    "            tag_word = ''\n",
    "\n",
    "    if t == False:\n",
    "        real_word += s\n",
    "    else:\n",
    "        if real_word != '':\n",
    "            seperate.append(real_word)\n",
    "            real_word = ''\n",
    "\n",
    "# 주어진 문자열에서 태그만 있거나, 문자만 있을 경우\n",
    "if tag_word != '': # 태그만 있을 경우\n",
    "    seperate.append(tag_word)\n",
    "if real_word != '': # 문자만 있을 경우\n",
    "    seperate.append(real_word)\n",
    "\n",
    "# 2번: 문자들 중에서 spacebar로 구분\n",
    "space_check = []\n",
    "for s in seperate:\n",
    "    if '<' in s:\n",
    "        space_check.append(s)\n",
    "        continue\n",
    "    \n",
    "    for word in s.split():\n",
    "        space_check.append(word)\n",
    "\n",
    "# 3번: 문자들 뒤집기\n",
    "convert_sentence = []\n",
    "for word in space_check:\n",
    "    if '<' in word:\n",
    "        convert_sentence.append(word)\n",
    "        continue\n",
    "\n",
    "    tmp_word = ''\n",
    "    for i in range(len(word)):\n",
    "        tmp_word += word[-i-1]\n",
    "    convert_sentence.append(tmp_word)\n",
    "\n",
    "# 4번: 연속하는 두 단어는 공백하나로 구분하여 합치기\n",
    "answer = convert_sentence[0]\n",
    "for first, second in zip(convert_sentence, convert_sentence[1:]):\n",
    "    if '<' not in first and '<' not in second:\n",
    "        answer += ' ' + second\n",
    "    else:\n",
    "        answer += second\n",
    "print(answer)"
   ]
  },
  {
   "cell_type": "code",
   "execution_count": null,
   "metadata": {},
   "outputs": [],
   "source": []
  },
  {
   "cell_type": "code",
   "execution_count": 10,
   "metadata": {},
   "outputs": [
    {
     "data": {
      "text/plain": [
       "'baekjoon online judge'"
      ]
     },
     "execution_count": 10,
     "metadata": {},
     "output_type": "execute_result"
    }
   ],
   "source": [
    "real_word"
   ]
  },
  {
   "cell_type": "code",
   "execution_count": 8,
   "metadata": {},
   "outputs": [
    {
     "data": {
      "text/plain": [
       "['',\n",
       " '',\n",
       " '',\n",
       " '',\n",
       " '',\n",
       " '',\n",
       " '',\n",
       " '',\n",
       " '',\n",
       " '',\n",
       " '',\n",
       " '',\n",
       " '',\n",
       " '',\n",
       " '',\n",
       " '',\n",
       " '',\n",
       " '',\n",
       " '',\n",
       " '',\n",
       " '']"
      ]
     },
     "execution_count": 8,
     "metadata": {},
     "output_type": "execute_result"
    }
   ],
   "source": [
    "seperate"
   ]
  },
  {
   "cell_type": "code",
   "execution_count": null,
   "metadata": {},
   "outputs": [],
   "source": []
  }
 ],
 "metadata": {
  "interpreter": {
   "hash": "6d46af94c2bbce495f1e668725902fa517c90b1782bcfe2fce0dd9868df553d3"
  },
  "kernelspec": {
   "display_name": "Python 3.8.8 64-bit (conda)",
   "language": "python",
   "name": "python3"
  },
  "language_info": {
   "codemirror_mode": {
    "name": "ipython",
    "version": 3
   },
   "file_extension": ".py",
   "mimetype": "text/x-python",
   "name": "python",
   "nbconvert_exporter": "python",
   "pygments_lexer": "ipython3",
   "version": "3.8.8"
  },
  "orig_nbformat": 4
 },
 "nbformat": 4,
 "nbformat_minor": 2
}
