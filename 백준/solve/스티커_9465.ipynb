{
 "cells": [
  {
   "cell_type": "code",
   "execution_count": 4,
   "metadata": {},
   "outputs": [
    {
     "name": "stdout",
     "output_type": "stream",
     "text": [
      "260\n",
      "290\n"
     ]
    }
   ],
   "source": [
    "T = int(input())\n",
    "for _ in range(T):\n",
    "    n = int(input())\n",
    "    sticker = []\n",
    "    for _ in range(2):\n",
    "        row = [value for value in map(int, input().split())]\n",
    "        sticker.append(row)\n",
    "\n",
    "    sticker_point_1 = [0]*n\n",
    "    sticker_point_2 = [0]*n\n",
    "\n",
    "    # 50 / (50, 40) -> 50  / (50, 200) -> 200 / (140, 200)->200 / (200, 250) -> 250\n",
    "    # 30 / (30, 100)-> 100 / (100, 120)-> 120 / (120, 210)->210 / (210, 260) -> 260\n",
    "    for i, (one, two) in enumerate(zip(sticker[0], sticker[1])):\n",
    "        if i == 0:\n",
    "            sticker_point_1[0] = one\n",
    "            sticker_point_2[0] = two\n",
    "            continue\n",
    "\n",
    "        sticker_point_1[i] = max(sticker_point_1[i-1], sticker_point_2[i-1]+one)\n",
    "        sticker_point_2[i] = max(sticker_point_2[i-1], sticker_point_1[i-1]+two)\n",
    "    \n",
    "    print(max(max(sticker_point_1), max(sticker_point_2)))"
   ]
  },
  {
   "cell_type": "code",
   "execution_count": null,
   "metadata": {},
   "outputs": [],
   "source": []
  }
 ],
 "metadata": {
  "interpreter": {
   "hash": "6d46af94c2bbce495f1e668725902fa517c90b1782bcfe2fce0dd9868df553d3"
  },
  "kernelspec": {
   "display_name": "Python 3.8.8 64-bit (conda)",
   "language": "python",
   "name": "python3"
  },
  "language_info": {
   "codemirror_mode": {
    "name": "ipython",
    "version": 3
   },
   "file_extension": ".py",
   "mimetype": "text/x-python",
   "name": "python",
   "nbconvert_exporter": "python",
   "pygments_lexer": "ipython3",
   "version": "3.8.8"
  },
  "orig_nbformat": 4
 },
 "nbformat": 4,
 "nbformat_minor": 2
}
